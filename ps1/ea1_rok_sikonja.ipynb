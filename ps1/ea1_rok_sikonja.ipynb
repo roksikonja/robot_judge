{
 "cells": [
  {
   "cell_type": "code",
   "execution_count": 1,
   "metadata": {},
   "outputs": [
    {
     "name": "stderr",
     "output_type": "stream",
     "text": [
      "C:\\Users\\roksi\\Anaconda3\\lib\\site-packages\\gensim\\utils.py:1209: UserWarning: detected Windows; aliasing chunkize to chunkize_serial\n",
      "  warnings.warn(\"detected Windows; aliasing chunkize to chunkize_serial\")\n"
     ]
    }
   ],
   "source": [
    "import numpy as np\n",
    "import pandas as pd\n",
    "\n",
    "import nltk\n",
    "from nltk.corpus import brown\n",
    "\n",
    "from sklearn.feature_extraction.text import CountVectorizer\n",
    "from sklearn.metrics.pairwise import cosine_similarity\n",
    "\n",
    "from unidecode import unidecode\n",
    "\n",
    "import gensim\n",
    "from gensim.models import Word2Vec"
   ]
  },
  {
   "cell_type": "code",
   "execution_count": 2,
   "metadata": {},
   "outputs": [],
   "source": [
    "# Load Google's pre-trained Word2Vec model.\n",
    "# accessible: https://drive.google.com/file/d/0B7XkCwpI5KDYNlNUTTlSS21pQmM/edit\n",
    "\n",
    "model = gensim.models.KeyedVectors.load_word2vec_format('../../../../../GoogleNews-vectors-negative300.bin.gz', binary=True)"
   ]
  },
  {
   "cell_type": "code",
   "execution_count": 3,
   "metadata": {},
   "outputs": [],
   "source": [
    "def get_transformation(D1, D2):\n",
    "    \n",
    "    m3 = 300 # dimension of word embeddings\n",
    "    n1, m1 = D1.shape\n",
    "    n2, m2 = D2.shape\n",
    "    \n",
    "    features1 = list(D1.columns)\n",
    "    features2 = list(D2.columns)\n",
    "\n",
    "    # Feature map initialization from n_i x m_i -> n_i x m_3\n",
    "    # Linear Transformation = Matrix multiplication T_i: m_i x m_3\n",
    "    T1 = np.zeros((m1, m3), dtype=np.float32)\n",
    "    T2 = np.zeros((m2, m3), dtype=np.float32)\n",
    "    \n",
    "    # Construction of Matrices\n",
    "    # i-th row in matrix T_j corresponds to the word embedding (GoogleNews Word2Vec pretrained model)\n",
    "    # of i-th culumn/feature (word) of D_j \n",
    "    for idx, feat in enumerate(features1):\n",
    "        \n",
    "        if feat in model:\n",
    "            T1[idx, :] = model[feat]\n",
    "        else:\n",
    "            T1[idx, :] = np.zeros((1, 300))\n",
    "        \n",
    "    for idx, feat in enumerate(features2):\n",
    "        if feat in model:\n",
    "            T2[idx, :] = model[feat]\n",
    "        else:\n",
    "            T2[idx, :] = np.zeros((1, 300))\n",
    "        \n",
    "    return T1, T2\n",
    "\n",
    "def cosine_sim(D1, D2):\n",
    "    \n",
    "    # Compute transformaton\n",
    "    T1, T2 = get_transformation(D1, D2)\n",
    "    \n",
    "    # Matrix multiplication\n",
    "    # k-th row in Dj_prime is a linear combination a_1 * e_1 + ... + a_i * e_i +  ... + a_m_j * e_m_j, \n",
    "    # where e_i is the i-th row of matrix T1 (corresponding to the embedding of i-th column/feature of Dj) \n",
    "    # and a_i is the count of i-th column/feature in k-th document of dataset Dj\n",
    "    D1_prime = np.matmul(D1.values, T1)\n",
    "    D2_prime = np.matmul(D2.values, T2)\n",
    "    \n",
    "    # In other words, each row is represented as a linear combination of word embedding vectors, i. e.\n",
    "    # i-th document/row in dataset D1: d1_i = sum_{k = 1}^{m1} #(count of word k in i-th document) * e_k (embedding of word k)\n",
    "    \n",
    "    # cosine similarity between of size: n_1 x n_2\n",
    "    return cosine_similarity(D1_prime, D2_prime) "
   ]
  },
  {
   "cell_type": "code",
   "execution_count": 4,
   "metadata": {},
   "outputs": [
    {
     "name": "stdout",
     "output_type": "stream",
     "text": [
      "0.9085390539774225 0.9085390539774225\n",
      "Too many people think that the primary purpose of a higher education is to help you make a living ; ; this is not so , for education offers all kinds of dividends , including how to pull the wool over a husband's eyes while you are having an affair with his wife . If it were not for an old professor who made me read the classics I would have been stymied on what to do , and now I understand why they are classics ; ; those who wrote them knew people and what made people tick . I worked for my Uncle ( an Uncle by marriage so you will not think this has a mild undercurrent of incest ) who ran one of those antique shops in New Orleans' Vieux Carre , the old French Quarter . The arrangement I had with him was to work four hours a day . The rest of the time I devoted to painting or to those other activities a young and healthy man just out of college finds interesting . I had a one-room studio which overlooked an ancient courtyard filled with flowers and plants , blooming everlastingly in th\n",
      "\n",
      "\n",
      "\n",
      "I realized that Hamlet was faced with an entirely different problem , but his agony could have been no greater . The most that was accomplished was adding Mrs. Beige's tray to the dish pile , and by means of repeated threats , on an ascending scale , seeing that the girls dressed themselves , after a fashion . I was saved from making the decision as the phone rang , and the girls were upon me instantly . Here's a household hint : if you can't find your children , and get tired of calling them , pick up the phone . No matter if your children are at the movies , in school , visiting their grandmother , or on a field trip in some distant city , they will be upon you magically within seconds after you pick up the phone . Jennie and Miranda twined themselves around me , murmuring endearments . Louise climbed onto a stool and clutched the hand with which I was trying to hold the phone , claiming my immediate attention on grounds of extreme emergency . Somehow managing to get out a cool , poi\n"
     ]
    }
   ],
   "source": [
    "n1 = 25\n",
    "m1 = 40\n",
    "\n",
    "n2 = 30\n",
    "m2 = 30\n",
    "\n",
    "m3 = 300\n",
    "brown_size = len(brown.fileids())\n",
    "\n",
    "def construct_dataset(m, n, corpus, corpus_size):\n",
    "    \n",
    "    rand_int = np.random.randint(low=0, high=corpus_size, size=n)\n",
    "    \n",
    "    d = []\n",
    "    \n",
    "    for idx in rand_int:\n",
    "        doc = brown_ = \" \".join([' '.join(sent).replace('``', '\"').replace(\"''\", '\"').replace('`', \"'\")  \n",
    "                                 for sent in corpus.sents(corpus.fileids()[idx])])\n",
    "        \n",
    "        d.append({\"doc\": doc})\n",
    "        \n",
    "    df_doc = pd.DataFrame(d)\n",
    "        \n",
    "    vec = CountVectorizer(max_features=m, stop_words='english', ngram_range=(1,1))\n",
    "\n",
    "    X = vec.fit_transform(df_doc[\"doc\"]).toarray()\n",
    "    \n",
    "    vocab = vec.get_feature_names()\n",
    "    \n",
    "    df_feat = pd.DataFrame(X, columns=vocab)\n",
    "    \n",
    "    return df_doc, df_feat\n",
    "\n",
    "df_doc1, D1 = construct_dataset(m1, n1, brown, brown_size)\n",
    "df_doc2, D2 = construct_dataset(m2, n2, brown, brown_size)\n",
    "\n",
    "similarity = cosine_sim(D1, D2)\n",
    "\n",
    "max_similarity = np.amax(similarity)\n",
    "id_1, id_2 = tuple(np.argwhere(similarity == max_similarity)[0])\n",
    "\n",
    "print(max_similarity, similarity[id_1, id_2])\n",
    "doc1 = df_doc1[\"doc\"].loc[id_1]\n",
    "doc2 = df_doc2[\"doc\"].loc[id_2]\n",
    "\n",
    "print(doc1[0:1000])\n",
    "\n",
    "print(\"\\n\\n\")\n",
    "\n",
    "print(doc2[0:1000])"
   ]
  }
 ],
 "metadata": {
  "kernelspec": {
   "display_name": "Python 3",
   "language": "python",
   "name": "python3"
  },
  "language_info": {
   "codemirror_mode": {
    "name": "ipython",
    "version": 3
   },
   "file_extension": ".py",
   "mimetype": "text/x-python",
   "name": "python",
   "nbconvert_exporter": "python",
   "pygments_lexer": "ipython3",
   "version": "3.6.6"
  }
 },
 "nbformat": 4,
 "nbformat_minor": 2
}
